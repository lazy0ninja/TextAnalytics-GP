{
 "cells": [
  {
   "cell_type": "code",
   "execution_count": 119,
   "id": "f72658ae",
   "metadata": {},
   "outputs": [],
   "source": [
    "import pandas as pd\n",
    "\n",
    "df = pd.read_csv('brand.csv')"
   ]
  },
  {
   "cell_type": "code",
   "execution_count": 121,
   "id": "7d0dd24f",
   "metadata": {},
   "outputs": [],
   "source": [
    "import pandas as pd\n",
    "import nltk\n",
    "from nltk import bigrams\n",
    "from nltk.corpus import stopwords\n",
    "from nltk import WordNetLemmatizer\n",
    "import re\n",
    "def create_bigrams(text):\n",
    "    # Lowercasing\n",
    "    text = str(text).lower()\n",
    "    # Remove non-alphabetic characters\n",
    "    text = re.sub(r'[^a-z\\s]', '', text)\n",
    "    # Tokenize\n",
    "    words = nltk.word_tokenize(text)\n",
    "    lemmatizer = WordNetLemmatizer()\n",
    "    lm = []\n",
    "    for w in words:\n",
    "        lm.append(lemmatizer.lemmatize(w))\n",
    "    # Create bigrams\n",
    "    return list(bigrams(lm))\n",
    "\n",
    "# Apply the function to your comments\n",
    "df['Bigram list'] = df['message'].map(create_bigrams)"
   ]
  },
  {
   "cell_type": "code",
   "execution_count": 122,
   "id": "bfef1772",
   "metadata": {},
   "outputs": [
    {
     "data": {
      "text/plain": [
       "0       [(hi, pat), (pat, you), (you, forgot), (forgot...\n",
       "1       [(im, sure), (sure, some), (some, folk), (folk...\n",
       "2       [(you, can), (can, try), (try, to), (to, reviv...\n",
       "3       [(model, v), (v, model), (model, is), (is, exa...\n",
       "4       [(the, nissan), (nissan, is), (is, my), (my, f...\n",
       "                              ...                        \n",
       "4995    [(let, me), (me, try), (try, one), (one, more)...\n",
       "4996    [(no, one), (one, like), (like, repair), (repa...\n",
       "4997    [(toyota, gm), (gm, give), (give, you), (you, ...\n",
       "4998    [(what, weakness), (weakness, you), (you, have...\n",
       "4999    [(well, the), (the, cheapest), (cheapest, serv...\n",
       "Name: Bigram list, Length: 5000, dtype: object"
      ]
     },
     "execution_count": 122,
     "metadata": {},
     "output_type": "execute_result"
    }
   ],
   "source": [
    "df['Bigram list']"
   ]
  },
  {
   "cell_type": "code",
   "execution_count": 123,
   "id": "69915086",
   "metadata": {},
   "outputs": [],
   "source": [
    "aspir_list = [('love', 'to'),\n",
    "('would', 'love'),\n",
    "('would', 'hope'),\n",
    "('hope', 'to'),\n",
    "('wish', 'to'),\n",
    "('wish', 'that'),\n",
    "('wish', 'for'),\n",
    "('wishing', 'for'),\n",
    "('want', 'to'),\n",
    "('wants', 'to'),\n",
    "('dream', 'of'),\n",
    "('daydreaming', 'about'),\n",
    "('dream', 'to'),\n",
    "('desire', 'for'),\n",
    "('desire', 'to'),\n",
    "('everyone', 'desires'),\n",
    "('future', 'car'),\n",
    "('near', 'future'),\n",
    "('future', 'vehicle'),\n",
    "('to', 'buy'),\n",
    "('buy', 'the'),\n",
    "('buy', 'it'),\n",
    "('can', 'buy'),\n",
    "('would', 'buy'),\n",
    "('will', 'buy'),\n",
    "('will', 'buy'),\n",
    "('could', 'buy'),\n",
    "('buy', 'cars'),\n",
    "('buy', 'new'),\n",
    "('may', 'buy'),\n",
    "('to', 'purchase'),\n",
    "('purchase', 'the'),\n",
    "('purchase', 'it'),\n",
    "('purchase', 'cars'),\n",
    "('possible', 'purchase'),\n",
    "('will', 'purchase'),\n",
    "('next', 'purchase'),\n",
    "('like', 'to'),\n",
    "('will', 'get'),\n",
    "('could', 'get'),\n",
    "('i', 'wish'),\n",
    "('can', 'get'),\n",
    "('i','want'),\n",
    "('stick','with'),\n",
    "             (\"hope\", \"to\"),\n",
    "    (\"dream\", \"of\"),\n",
    "    (\"wish\", \"to\"),\n",
    "    (\"looking\", \"forward\"),\n",
    "    (\"saving\", \"for\"),\n",
    "    (\"eager\", \"to\"),\n",
    "    (\"excited\", \"about\"),\n",
    "    (\"enthusiastic\", \"about\"),\n",
    "    (\"keen\", \"on\"),\n",
    "    (\"set\", \"on\"),\n",
    "    (\"fixated\", \"on\"),\n",
    "    (\"focused\", \"on\"),\n",
    "    (\"determined\", \"to\"),\n",
    "    (\"committed\", \"to\"),\n",
    "    (\"dedicated\", \"to\"),\n",
    "    (\"can't\", \"wait\"),\n",
    "    (\"longing\", \"for\"),\n",
    "    (\"yearning\", \"for\"),\n",
    "    (\"itching\", \"for\"),\n",
    "    (\"dying\", \"for\"),\n",
    "    (\"dreaming\", \"of\"),\n",
    "    (\"thinking\", \"of\"),\n",
    "    (\"considering\", \"buying\"),\n",
    "    (\"planning\", \"to\"),\n",
    "    (\"aiming\", \"to\"),\n",
    "    (\"hoping\", \"to\"),\n",
    "    (\"wishing\", \"for\"),\n",
    "    (\"desiring\", \"to\"),\n",
    "    (\"craving\", \"for\"),\n",
    "    (\"praying\", \"for\"),\n",
    "    (\"envision\", \"driving\"),\n",
    "    (\"fantasize\", \"about\"),\n",
    "    (\"visualize\", \"driving\"),\n",
    "    (\"imagine\", \"driving\"),\n",
    "    (\"contemplating\", \"getting\")]"
   ]
  },
  {
   "cell_type": "code",
   "execution_count": 124,
   "id": "b1b50bb0",
   "metadata": {},
   "outputs": [],
   "source": [
    "def has_aspirational_bigram(bigram_list):\n",
    "    if any(bigram in aspir_list for bigram in bigram_list):\n",
    "        return 1\n",
    "    return 0\n",
    "\n",
    "# Apply the function to find comments with aspirational bigrams\n",
    "df['is_aspirational'] = df['Bigram list'].apply(has_aspirational_bigram)"
   ]
  },
  {
   "cell_type": "code",
   "execution_count": 125,
   "id": "f8ddefc0",
   "metadata": {},
   "outputs": [
    {
     "data": {
      "text/plain": [
       "array(['is_aspirational'], dtype=object)"
      ]
     },
     "execution_count": 125,
     "metadata": {},
     "output_type": "execute_result"
    }
   ],
   "source": [
    "df['is_aspirational'].value_counts()\n",
    "df.iloc[ :, -1:].columns.values"
   ]
  },
  {
   "cell_type": "code",
   "execution_count": 126,
   "id": "dd78c67e",
   "metadata": {},
   "outputs": [],
   "source": [
    "top10_brands=['subaru', 'chrysler', 'chevrolet', 'saturn', 'nissan', 'mazda', 'hyundai', 'toyota', 'ford', 'honda']\n",
    "aspirations = df.iloc[ :, -1:].columns.values\n",
    "aspr_matrix = pd.DataFrame(index=top10_brands, columns=aspirations)"
   ]
  },
  {
   "cell_type": "code",
   "execution_count": 128,
   "id": "44fb4248",
   "metadata": {},
   "outputs": [],
   "source": [
    "from nltk.tokenize import word_tokenize\n",
    "def tokenize_comment(text):\n",
    "    text = str(text).lower()\n",
    "    return word_tokenize(text)\n",
    "\n",
    "# Apply tokenization to the comment column\n",
    "df['message_tokens'] = df['message'].apply(tokenize_comment)\n",
    "for brand in top10_brands:\n",
    "    df[brand] = df['message_tokens'].map(lambda x: 1 if brand in x else 0)"
   ]
  },
  {
   "cell_type": "code",
   "execution_count": 132,
   "id": "af02b628",
   "metadata": {},
   "outputs": [
    {
     "data": {
      "text/plain": [
       "0    4186\n",
       "1     814\n",
       "Name: is_aspirational, dtype: int64"
      ]
     },
     "execution_count": 132,
     "metadata": {},
     "output_type": "execute_result"
    }
   ],
   "source": [
    "df['is_aspirational'].value_counts()"
   ]
  },
  {
   "cell_type": "code",
   "execution_count": 133,
   "id": "df75d173",
   "metadata": {},
   "outputs": [
    {
     "data": {
      "text/html": [
       "<div>\n",
       "<style scoped>\n",
       "    .dataframe tbody tr th:only-of-type {\n",
       "        vertical-align: middle;\n",
       "    }\n",
       "\n",
       "    .dataframe tbody tr th {\n",
       "        vertical-align: top;\n",
       "    }\n",
       "\n",
       "    .dataframe thead th {\n",
       "        text-align: right;\n",
       "    }\n",
       "</style>\n",
       "<table border=\"1\" class=\"dataframe\">\n",
       "  <thead>\n",
       "    <tr style=\"text-align: right;\">\n",
       "      <th></th>\n",
       "      <th>is_aspirational</th>\n",
       "    </tr>\n",
       "  </thead>\n",
       "  <tbody>\n",
       "    <tr>\n",
       "      <th>chevrolet</th>\n",
       "      <td>1.406116</td>\n",
       "    </tr>\n",
       "    <tr>\n",
       "      <th>mazda</th>\n",
       "      <td>1.4046</td>\n",
       "    </tr>\n",
       "    <tr>\n",
       "      <th>subaru</th>\n",
       "      <td>1.390756</td>\n",
       "    </tr>\n",
       "    <tr>\n",
       "      <th>saturn</th>\n",
       "      <td>1.307441</td>\n",
       "    </tr>\n",
       "    <tr>\n",
       "      <th>toyota</th>\n",
       "      <td>1.268493</td>\n",
       "    </tr>\n",
       "    <tr>\n",
       "      <th>ford</th>\n",
       "      <td>1.191493</td>\n",
       "    </tr>\n",
       "    <tr>\n",
       "      <th>hyundai</th>\n",
       "      <td>1.175793</td>\n",
       "    </tr>\n",
       "    <tr>\n",
       "      <th>honda</th>\n",
       "      <td>1.145859</td>\n",
       "    </tr>\n",
       "    <tr>\n",
       "      <th>chrysler</th>\n",
       "      <td>1.037401</td>\n",
       "    </tr>\n",
       "    <tr>\n",
       "      <th>nissan</th>\n",
       "      <td>0.957413</td>\n",
       "    </tr>\n",
       "  </tbody>\n",
       "</table>\n",
       "</div>"
      ],
      "text/plain": [
       "          is_aspirational\n",
       "chevrolet        1.406116\n",
       "mazda              1.4046\n",
       "subaru           1.390756\n",
       "saturn           1.307441\n",
       "toyota           1.268493\n",
       "ford             1.191493\n",
       "hyundai          1.175793\n",
       "honda            1.145859\n",
       "chrysler         1.037401\n",
       "nissan           0.957413"
      ]
     },
     "execution_count": 133,
     "metadata": {},
     "output_type": "execute_result"
    }
   ],
   "source": [
    "for brand in top10_brands:\n",
    "    freq_brand = df[brand].sum()\n",
    "    freq_aspr = df['is_aspirational'].sum()\n",
    "    freq_both = df[\"is_aspirational\"][(df[brand] == 1) & (df['is_aspirational'] == 1 )].sum()\n",
    "    lift = len(df) * freq_both / (freq_brand * freq_aspr)\n",
    "    aspr_matrix.loc[brand] = lift\n",
    "    \n",
    "\n",
    "aspr_matrix.sort_values(by = 'is_aspirational', ascending= False)"
   ]
  },
  {
   "cell_type": "code",
   "execution_count": null,
   "id": "2fab54c3",
   "metadata": {},
   "outputs": [],
   "source": []
  }
 ],
 "metadata": {
  "kernelspec": {
   "display_name": "Python 3 (ipykernel)",
   "language": "python",
   "name": "python3"
  },
  "language_info": {
   "codemirror_mode": {
    "name": "ipython",
    "version": 3
   },
   "file_extension": ".py",
   "mimetype": "text/x-python",
   "name": "python",
   "nbconvert_exporter": "python",
   "pygments_lexer": "ipython3",
   "version": "3.11.4"
  }
 },
 "nbformat": 4,
 "nbformat_minor": 5
}
