{
 "cells": [
  {
   "cell_type": "markdown",
   "id": "71811572",
   "metadata": {},
   "source": [
    "## Task A"
   ]
  },
  {
   "cell_type": "code",
   "outputs": [],
   "source": [
    "!pip install spacy"
   ],
   "metadata": {
    "collapsed": false
   },
   "id": "a467c228db62beb2",
   "execution_count": null
  },
  {
   "cell_type": "code",
   "execution_count": 1,
   "id": "7b1ce00d",
   "metadata": {
    "ExecuteTime": {
     "end_time": "2024-01-26T21:32:50.689498Z",
     "start_time": "2024-01-26T21:32:38.378204Z"
    }
   },
   "outputs": [
    {
     "name": "stdout",
     "output_type": "stream",
     "text": [
      "Collecting en-core-web-sm==3.7.1\n",
      "  Downloading https://github.com/explosion/spacy-models/releases/download/en_core_web_sm-3.7.1/en_core_web_sm-3.7.1-py3-none-any.whl (12.8 MB)\n",
      "\u001B[2K     \u001B[90m━━━━━━━━━━━━━━━━━━━━━━━━━━━━━━━━━━━━━━━━\u001B[0m \u001B[32m12.8/12.8 MB\u001B[0m \u001B[31m67.9 MB/s\u001B[0m eta \u001B[36m0:00:00\u001B[0m00:01\u001B[0m0:01\u001B[0m\n",
      "\u001B[?25hRequirement already satisfied: spacy<3.8.0,>=3.7.2 in /Users/kaz/anaconda3/envs/mma/lib/python3.10/site-packages (from en-core-web-sm==3.7.1) (3.7.2)\n",
      "Requirement already satisfied: spacy-legacy<3.1.0,>=3.0.11 in /Users/kaz/anaconda3/envs/mma/lib/python3.10/site-packages (from spacy<3.8.0,>=3.7.2->en-core-web-sm==3.7.1) (3.0.12)\n",
      "Requirement already satisfied: spacy-loggers<2.0.0,>=1.0.0 in /Users/kaz/anaconda3/envs/mma/lib/python3.10/site-packages (from spacy<3.8.0,>=3.7.2->en-core-web-sm==3.7.1) (1.0.4)\n",
      "Requirement already satisfied: murmurhash<1.1.0,>=0.28.0 in /Users/kaz/anaconda3/envs/mma/lib/python3.10/site-packages (from spacy<3.8.0,>=3.7.2->en-core-web-sm==3.7.1) (1.0.10)\n",
      "Requirement already satisfied: cymem<2.1.0,>=2.0.2 in /Users/kaz/anaconda3/envs/mma/lib/python3.10/site-packages (from spacy<3.8.0,>=3.7.2->en-core-web-sm==3.7.1) (2.0.6)\n",
      "Requirement already satisfied: preshed<3.1.0,>=3.0.2 in /Users/kaz/anaconda3/envs/mma/lib/python3.10/site-packages (from spacy<3.8.0,>=3.7.2->en-core-web-sm==3.7.1) (3.0.6)\n",
      "Requirement already satisfied: thinc<8.3.0,>=8.1.8 in /Users/kaz/anaconda3/envs/mma/lib/python3.10/site-packages (from spacy<3.8.0,>=3.7.2->en-core-web-sm==3.7.1) (8.2.1)\n",
      "Requirement already satisfied: wasabi<1.2.0,>=0.9.1 in /Users/kaz/anaconda3/envs/mma/lib/python3.10/site-packages (from spacy<3.8.0,>=3.7.2->en-core-web-sm==3.7.1) (0.9.1)\n",
      "Requirement already satisfied: srsly<3.0.0,>=2.4.3 in /Users/kaz/anaconda3/envs/mma/lib/python3.10/site-packages (from spacy<3.8.0,>=3.7.2->en-core-web-sm==3.7.1) (2.4.8)\n",
      "Requirement already satisfied: catalogue<2.1.0,>=2.0.6 in /Users/kaz/anaconda3/envs/mma/lib/python3.10/site-packages (from spacy<3.8.0,>=3.7.2->en-core-web-sm==3.7.1) (2.0.10)\n",
      "Requirement already satisfied: weasel<0.4.0,>=0.1.0 in /Users/kaz/anaconda3/envs/mma/lib/python3.10/site-packages (from spacy<3.8.0,>=3.7.2->en-core-web-sm==3.7.1) (0.3.3)\n",
      "Requirement already satisfied: typer<0.10.0,>=0.3.0 in /Users/kaz/anaconda3/envs/mma/lib/python3.10/site-packages (from spacy<3.8.0,>=3.7.2->en-core-web-sm==3.7.1) (0.9.0)\n",
      "Requirement already satisfied: smart-open<7.0.0,>=5.2.1 in /Users/kaz/anaconda3/envs/mma/lib/python3.10/site-packages (from spacy<3.8.0,>=3.7.2->en-core-web-sm==3.7.1) (5.2.1)\n",
      "Requirement already satisfied: tqdm<5.0.0,>=4.38.0 in /Users/kaz/anaconda3/envs/mma/lib/python3.10/site-packages (from spacy<3.8.0,>=3.7.2->en-core-web-sm==3.7.1) (4.65.0)\n",
      "Requirement already satisfied: requests<3.0.0,>=2.13.0 in /Users/kaz/anaconda3/envs/mma/lib/python3.10/site-packages (from spacy<3.8.0,>=3.7.2->en-core-web-sm==3.7.1) (2.31.0)\n",
      "Requirement already satisfied: pydantic!=1.8,!=1.8.1,<3.0.0,>=1.7.4 in /Users/kaz/anaconda3/envs/mma/lib/python3.10/site-packages (from spacy<3.8.0,>=3.7.2->en-core-web-sm==3.7.1) (1.10.12)\n",
      "Requirement already satisfied: jinja2 in /Users/kaz/anaconda3/envs/mma/lib/python3.10/site-packages (from spacy<3.8.0,>=3.7.2->en-core-web-sm==3.7.1) (3.1.2)\n",
      "Requirement already satisfied: setuptools in /Users/kaz/anaconda3/envs/mma/lib/python3.10/site-packages (from spacy<3.8.0,>=3.7.2->en-core-web-sm==3.7.1) (68.2.2)\n",
      "Requirement already satisfied: packaging>=20.0 in /Users/kaz/anaconda3/envs/mma/lib/python3.10/site-packages (from spacy<3.8.0,>=3.7.2->en-core-web-sm==3.7.1) (23.0)\n",
      "Requirement already satisfied: langcodes<4.0.0,>=3.2.0 in /Users/kaz/anaconda3/envs/mma/lib/python3.10/site-packages (from spacy<3.8.0,>=3.7.2->en-core-web-sm==3.7.1) (3.3.0)\n",
      "Requirement already satisfied: numpy>=1.19.0 in /Users/kaz/anaconda3/envs/mma/lib/python3.10/site-packages (from spacy<3.8.0,>=3.7.2->en-core-web-sm==3.7.1) (1.25.0)\n",
      "Requirement already satisfied: typing-extensions>=4.2.0 in /Users/kaz/anaconda3/envs/mma/lib/python3.10/site-packages (from pydantic!=1.8,!=1.8.1,<3.0.0,>=1.7.4->spacy<3.8.0,>=3.7.2->en-core-web-sm==3.7.1) (4.9.0)\n",
      "Requirement already satisfied: charset-normalizer<4,>=2 in /Users/kaz/anaconda3/envs/mma/lib/python3.10/site-packages (from requests<3.0.0,>=2.13.0->spacy<3.8.0,>=3.7.2->en-core-web-sm==3.7.1) (2.0.4)\n",
      "Requirement already satisfied: idna<4,>=2.5 in /Users/kaz/anaconda3/envs/mma/lib/python3.10/site-packages (from requests<3.0.0,>=2.13.0->spacy<3.8.0,>=3.7.2->en-core-web-sm==3.7.1) (3.4)\n",
      "Requirement already satisfied: urllib3<3,>=1.21.1 in /Users/kaz/anaconda3/envs/mma/lib/python3.10/site-packages (from requests<3.0.0,>=2.13.0->spacy<3.8.0,>=3.7.2->en-core-web-sm==3.7.1) (1.26.16)\n",
      "Requirement already satisfied: certifi>=2017.4.17 in /Users/kaz/anaconda3/envs/mma/lib/python3.10/site-packages (from requests<3.0.0,>=2.13.0->spacy<3.8.0,>=3.7.2->en-core-web-sm==3.7.1) (2023.11.17)\n",
      "Requirement already satisfied: blis<0.8.0,>=0.7.8 in /Users/kaz/anaconda3/envs/mma/lib/python3.10/site-packages (from thinc<8.3.0,>=8.1.8->spacy<3.8.0,>=3.7.2->en-core-web-sm==3.7.1) (0.7.11)\n",
      "Requirement already satisfied: confection<1.0.0,>=0.0.1 in /Users/kaz/anaconda3/envs/mma/lib/python3.10/site-packages (from thinc<8.3.0,>=8.1.8->spacy<3.8.0,>=3.7.2->en-core-web-sm==3.7.1) (0.1.3)\n",
      "Requirement already satisfied: click<9.0.0,>=7.1.1 in /Users/kaz/anaconda3/envs/mma/lib/python3.10/site-packages (from typer<0.10.0,>=0.3.0->spacy<3.8.0,>=3.7.2->en-core-web-sm==3.7.1) (8.0.4)\n",
      "Requirement already satisfied: cloudpathlib<0.17.0,>=0.7.0 in /Users/kaz/anaconda3/envs/mma/lib/python3.10/site-packages (from weasel<0.4.0,>=0.1.0->spacy<3.8.0,>=3.7.2->en-core-web-sm==3.7.1) (0.16.0)\n",
      "Requirement already satisfied: MarkupSafe>=2.0 in /Users/kaz/anaconda3/envs/mma/lib/python3.10/site-packages (from jinja2->spacy<3.8.0,>=3.7.2->en-core-web-sm==3.7.1) (2.1.1)\n",
      "\u001B[38;5;2m✔ Download and installation successful\u001B[0m\n",
      "You can now load the package via spacy.load('en_core_web_sm')\n"
     ]
    }
   ],
   "source": [
    "import warnings\n",
    "warnings.filterwarnings(\"ignore\")\n",
    "import pandas as pd\n",
    "import numpy as np\n",
    "import matplotlib.pyplot as plt\n",
    "from sklearn.feature_extraction.text import CountVectorizer\n",
    "from sklearn.manifold import MDS\n",
    "import re\n",
    "import spacy\n",
    "import spacy.cli\n",
    "from spacy.lang.en import stop_words\n",
    "spacy.cli.download(\"en_core_web_sm\")"
   ]
  },
  {
   "cell_type": "code",
   "execution_count": 2,
   "id": "f014c985",
   "metadata": {
    "ExecuteTime": {
     "end_time": "2024-01-26T21:32:59.809320Z",
     "start_time": "2024-01-26T21:32:59.783116Z"
    }
   },
   "outputs": [],
   "source": [
    "# Documents\n",
    "doc = pd.read_csv('edmunds_extraction.csv')\n",
    "doc['message'].fillna('', inplace=True)"
   ]
  },
  {
   "cell_type": "code",
   "execution_count": 3,
   "id": "6303e7f2",
   "metadata": {
    "ExecuteTime": {
     "end_time": "2024-01-26T21:33:00.282597Z",
     "start_time": "2024-01-26T21:32:59.934516Z"
    }
   },
   "outputs": [],
   "source": [
    "# Clean Text\n",
    "nlp = spacy.load('en_core_web_sm')\n",
    "def clean_text(x): # x is a document\n",
    "    # conver to lower case \n",
    "    x = x.lower()\n",
    "    # remove new line\n",
    "    x = re.sub(r'\\n', ' ', x)\n",
    "    # remove link\n",
    "    x = re.sub(r\"https?://[^\\s]+\", \"\", x)\n",
    "    # remove name twitter tag\n",
    "    x = re.sub(r'@[A-Za-z0-9\\_]+', ' ', x) \n",
    "    # remove name hashtag tag\n",
    "    x = re.sub(r'\\#[A-Za-z0-9\\_]+', ' ', x) \n",
    "    # remove specific word - southwest OR airline\n",
    "    x = re.sub('southwest|airline', ' ', x)\n",
    "    # lemmatization\n",
    "    x = ' '.join([token.lemma_ for token in nlp(x)])\n",
    "    # remove multiple space\n",
    "    x = re.sub(r' +', ' ', x)\n",
    "    # remove space before and after the text\n",
    "    x = x.strip()\n",
    "    return x"
   ]
  },
  {
   "cell_type": "markdown",
   "source": [
    "↑ airline? we might need to fix this to our case"
   ],
   "metadata": {
    "collapsed": false
   },
   "id": "eb82b266eff087fb"
  },
  {
   "cell_type": "code",
   "execution_count": 4,
   "id": "de49b034",
   "metadata": {
    "ExecuteTime": {
     "end_time": "2024-01-26T21:33:00.287624Z",
     "start_time": "2024-01-26T21:33:00.283263Z"
    }
   },
   "outputs": [],
   "source": [
    "# Convert documents into a list\n",
    "all_documents = doc['message'].tolist()"
   ]
  },
  {
   "cell_type": "code",
   "execution_count": 5,
   "id": "3bcd8fda",
   "metadata": {
    "ExecuteTime": {
     "end_time": "2024-01-26T21:33:00.685847Z",
     "start_time": "2024-01-26T21:33:00.679526Z"
    }
   },
   "outputs": [],
   "source": [
    "# List of non-brand words to exclude\n",
    "exclude_words = ['problem', 'car', 'seat', 'engine', 'wheel', 'door', 'window', 'suv', 'sedan', 'vehicle', 'mpv', 'hatchback', 'crossover', 'convertible', 'coupe', 'truck', 'van', 'roadster', 'cabriolet', 'sportscar']\n",
    "\n",
    "# Read the list of car brands/models from the CSV file\n",
    "models = pd.read_csv('models.csv', header=None)\n"
   ]
  },
  {
   "cell_type": "code",
   "outputs": [],
   "source": [
    "# Clean the model's brand column \n",
    "# Define a function to clean the data\n",
    "def clean_data(value):\n",
    "    if isinstance(value, str):\n",
    "        # Remove unwanted characters\n",
    "        value = value.replace(\",\", \"\").replace(\".\", \"\")\n",
    "    return value\n",
    "\n",
    "# Clean the first and second columns\n",
    "models[0] = models[0].apply(clean_data)\n",
    "models[1] = models[1].apply(clean_data)"
   ],
   "metadata": {
    "collapsed": false,
    "ExecuteTime": {
     "end_time": "2024-01-26T21:33:01.238499Z",
     "start_time": "2024-01-26T21:33:01.234951Z"
    }
   },
   "id": "bf1d320c396e765f",
   "execution_count": 6
  },
  {
   "cell_type": "markdown",
   "source": [
    "↑ clean instances like kia, kia. and kia,."
   ],
   "metadata": {
    "collapsed": false
   },
   "id": "7051d2203f5fe251"
  },
  {
   "cell_type": "code",
   "outputs": [
    {
     "data": {
      "text/plain": "(528, 2)"
     },
     "execution_count": 7,
     "metadata": {},
     "output_type": "execute_result"
    }
   ],
   "source": [
    "models.shape"
   ],
   "metadata": {
    "collapsed": false,
    "ExecuteTime": {
     "end_time": "2024-01-26T21:33:01.997988Z",
     "start_time": "2024-01-26T21:33:01.994714Z"
    }
   },
   "id": "e7302202fc8d8490",
   "execution_count": 7
  },
  {
   "cell_type": "code",
   "outputs": [
    {
     "data": {
      "text/plain": "(524, 2)"
     },
     "execution_count": 8,
     "metadata": {},
     "output_type": "execute_result"
    }
   ],
   "source": [
    "# Create a boolean mask\n",
    "mask = ~models[0].isin(exclude_words)\n",
    "\n",
    "# Apply the mask to filter the DataFrame\n",
    "filtered_models = models[mask]\n",
    "filtered_models.shape"
   ],
   "metadata": {
    "collapsed": false,
    "ExecuteTime": {
     "end_time": "2024-01-26T21:33:02.173053Z",
     "start_time": "2024-01-26T21:33:02.168825Z"
    }
   },
   "id": "2160c99ed039d43",
   "execution_count": 8
  },
  {
   "cell_type": "markdown",
   "source": [
    "↑ removed 4 rows"
   ],
   "metadata": {
    "collapsed": false
   },
   "id": "2b8aeaf548e9c18e"
  },
  {
   "cell_type": "code",
   "outputs": [],
   "source": [
    "# lower case\n",
    "all_documents = [doc.lower() for doc in all_documents]\n",
    "filtered_models[1] = filtered_models[1].str.lower()\n",
    "filtered_models[0] = filtered_models[0].str.lower()"
   ],
   "metadata": {
    "collapsed": false,
    "ExecuteTime": {
     "end_time": "2024-01-26T21:33:02.537699Z",
     "start_time": "2024-01-26T21:33:02.535123Z"
    }
   },
   "id": "5c14eb0c33dacaa8",
   "execution_count": 9
  },
  {
   "cell_type": "code",
   "outputs": [
    {
     "data": {
      "text/plain": "0      integra\n1       legend\n2        vigor\n3          rlx\n4          ilx\n        ...   \n523       xc90\n524        s60\n525        s80\n526        v60\n527        c70\nName: 1, Length: 524, dtype: object"
     },
     "execution_count": 10,
     "metadata": {},
     "output_type": "execute_result"
    }
   ],
   "source": [
    "filtered_models[1]"
   ],
   "metadata": {
    "collapsed": false,
    "ExecuteTime": {
     "end_time": "2024-01-26T21:33:02.748652Z",
     "start_time": "2024-01-26T21:33:02.735190Z"
    }
   },
   "id": "bc34dc65067d03a0",
   "execution_count": 10
  },
  {
   "cell_type": "markdown",
   "source": [
    "#### Conver the model name into a list"
   ],
   "metadata": {
    "collapsed": false
   },
   "id": "cb449e7fe5114813"
  },
  {
   "cell_type": "code",
   "outputs": [],
   "source": [
    "# Create a mapping dictionary from Model to Brand\n",
    "model_to_brand = pd.Series(filtered_models[0].values, index=filtered_models[1]).to_dict()\n",
    "\n",
    "def replace_models_with_brands(text):\n",
    "    for model, brand in model_to_brand.items():\n",
    "        text = re.sub(r'\\b' + re.escape(model) + r'\\b', brand, text)\n",
    "    return text\n",
    "\n",
    "# Replace in all_documents\n",
    "all_documents = [replace_models_with_brands(doc) for doc in all_documents]"
   ],
   "metadata": {
    "collapsed": false,
    "ExecuteTime": {
     "end_time": "2024-01-26T21:33:17.970403Z",
     "start_time": "2024-01-26T21:33:03.284711Z"
    }
   },
   "id": "e293c791b0657f19",
   "execution_count": 11
  },
  {
   "cell_type": "code",
   "outputs": [],
   "source": [
    "# # save as text\n",
    "# with open('all_documents.txt', 'w') as f:\n",
    "#     for item in all_documents:\n",
    "#         f.write(\"%s\\n\" % item)"
   ],
   "metadata": {
    "collapsed": false,
    "ExecuteTime": {
     "end_time": "2024-01-26T21:37:07.274146Z",
     "start_time": "2024-01-26T21:37:07.263249Z"
    }
   },
   "id": "cb9329deee45db67",
   "execution_count": 12
  },
  {
   "cell_type": "markdown",
   "source": [
    "↑ this is to check if the model name is replaced by brand name"
   ],
   "metadata": {
    "collapsed": false
   },
   "id": "c0ba446e6171200d"
  },
  {
   "cell_type": "code",
   "outputs": [],
   "source": [
    "# model_names = filtered_models[1].tolist()   "
   ],
   "metadata": {
    "collapsed": false,
    "ExecuteTime": {
     "end_time": "2024-01-26T21:37:07.713920Z",
     "start_time": "2024-01-26T21:37:07.710510Z"
    }
   },
   "id": "c3e1e26795aa417d",
   "execution_count": 13
  },
  {
   "cell_type": "code",
   "outputs": [],
   "source": [
    "car_brands = filtered_models[0].unique().tolist()"
   ],
   "metadata": {
    "collapsed": false,
    "ExecuteTime": {
     "end_time": "2024-01-26T21:37:08.076403Z",
     "start_time": "2024-01-26T21:37:08.073067Z"
    }
   },
   "id": "d065fee3ec90b106",
   "execution_count": 14
  },
  {
   "cell_type": "code",
   "outputs": [],
   "source": [
    "# Define a custom tokenizer function\n",
    "def unique_tokenizer(text):\n",
    "    # Apply the clean_text function first (assuming it's already defined)\n",
    "    text = clean_text(text)\n",
    "    # Use a set to store unique tokens\n",
    "    tokens = set(re.findall('[a-zA-Z0-9]{3,}', text))\n",
    "    return list(tokens)\n",
    "\n",
    "# # Create an instance of CountVectorizer with the custom tokenizer\n",
    "# vectorizer = CountVectorizer(vocabulary=car_brands,\n",
    "#                              max_features=10,\n",
    "#                              tokenizer=unique_tokenizer,\n",
    "#                              token_pattern='[a-zA-Z0-9]{3,}')\n",
    "\n",
    "# # Example data\n",
    "# test = ['BMW, BMW, FORD, FORD']\n",
    "# \n",
    "# # Transform the data\n",
    "# dtm = vectorizer.fit_transform(test)"
   ],
   "metadata": {
    "collapsed": false,
    "ExecuteTime": {
     "end_time": "2024-01-26T21:37:08.655850Z",
     "start_time": "2024-01-26T21:37:08.652608Z"
    }
   },
   "id": "d856e2d6d808f56c",
   "execution_count": 15
  },
  {
   "cell_type": "code",
   "outputs": [],
   "source": [
    "# feature_names = vectorizer.get_feature_names_out()\n",
    "# \n",
    "# # Convert the document-term matrix to a dense array\n",
    "# dtm_array = dtm.toarray()\n",
    "# print(feature_names)\n",
    "# print(dtm_array)"
   ],
   "metadata": {
    "collapsed": false,
    "ExecuteTime": {
     "end_time": "2024-01-26T21:37:09.161130Z",
     "start_time": "2024-01-26T21:37:09.156631Z"
    }
   },
   "id": "c494996393fbf8e2",
   "execution_count": 16
  },
  {
   "cell_type": "markdown",
   "source": [
    "↑ **Here you can see that bmw and ford is counted only once despite they appear twice in the text**"
   ],
   "metadata": {
    "collapsed": false
   },
   "id": "8ebe6e1bda5dffac"
  },
  {
   "cell_type": "code",
   "execution_count": 32,
   "id": "0ce074b5",
   "metadata": {
    "ExecuteTime": {
     "end_time": "2024-01-26T21:59:13.105225Z",
     "start_time": "2024-01-26T21:59:13.096717Z"
    }
   },
   "outputs": [],
   "source": [
    "# Initialize the CountVectorizer to transform the text data into a bag-of-words model only for the top 10 most frequent non-stopwords, do the MDS for those words\n",
    "# Create an instance of CountVectorizer with the custom tokenizer\n",
    "\n",
    "vectorizer = CountVectorizer(vocabulary=car_brands,\n",
    "                             max_features=10,\n",
    "                             tokenizer=unique_tokenizer,\n",
    "                             token_pattern='[a-zA-Z0-9]{3,}')\n",
    "\n",
    "# Transform the documents into a document-term matrix\n",
    "dtm = vectorizer.fit_transform(all_documents)\n"
   ]
  },
  {
   "cell_type": "code",
   "outputs": [],
   "source": [
    "\n",
    "# Extract feature names (non-stopwords)\n",
    "feature_names = vectorizer.get_feature_names_out()\n",
    "\n",
    "# Convert the document-term matrix to a dense array\n",
    "dtm_array = dtm.toarray()\n",
    "\n",
    "# Calculate lift between terms\n",
    "term_lift = np.dot(dtm_array.T, dtm_array)\n",
    "term_occurrence = np.sum(dtm_array, axis=0)\n"
   ],
   "metadata": {
    "collapsed": false,
    "ExecuteTime": {
     "end_time": "2024-01-26T22:19:48.990582Z",
     "start_time": "2024-01-26T22:19:48.975658Z"
    }
   },
   "id": "dc185fdda4bed68b",
   "execution_count": 55
  },
  {
   "cell_type": "code",
   "outputs": [
    {
     "name": "stdout",
     "output_type": "stream",
     "text": [
      "Top 10 Brands and Their Frequencies:\n",
      "honda: 2155\n",
      "ford: 1410\n",
      "toyota: 1033\n",
      "hyundai: 633\n",
      "mazda: 606\n",
      "nissan: 594\n",
      "saturn: 260\n",
      "chevrolet: 259\n",
      "chrysler: 240\n",
      "subaru: 165\n"
     ]
    }
   ],
   "source": [
    "# Assuming feature_names and term_occurrence are already defined as per your notebook\n",
    "# Extract the indices of the top 10 most frequent features\n",
    "top_10_indices = np.argsort(term_occurrence)[-10:]\n",
    "\n",
    "# Fetch the top 10 feature names and their frequencies\n",
    "top_10_feature_names = [feature_names[i] for i in top_10_indices]\n",
    "top_10_frequencies = [term_occurrence[i] for i in top_10_indices]\n",
    "\n",
    "# Display the top 10 feature names and their frequencies\n",
    "print(\"Top 10 Brands and Their Frequencies:\")\n",
    "for name, freq in zip(reversed(top_10_feature_names), reversed(top_10_frequencies)):\n",
    "    print(f\"{name}: {freq}\")\n"
   ],
   "metadata": {
    "collapsed": false,
    "ExecuteTime": {
     "end_time": "2024-01-26T22:20:00.199625Z",
     "start_time": "2024-01-26T22:20:00.193929Z"
    }
   },
   "id": "1a57d07ec49d160e",
   "execution_count": 56
  },
  {
   "cell_type": "code",
   "outputs": [
    {
     "name": "stdout",
     "output_type": "stream",
     "text": [
      "Brand 'hyndai kia' is not mentioned and will be excluded from MDS analysis.\n",
      "Brand 'toyata' is not mentioned and will be excluded from MDS analysis.\n",
      "Brand 'volkwagen' is not mentioned and will be excluded from MDS analysis.\n",
      "[[   75.          1650.           937.5         1425.\n",
      "      0.          4856.25        9000.00000001     0.\n",
      "   5565.78947368  2693.75      ]\n",
      " [ 1650.            44.           687.5         1254.\n",
      "    469.33333334  5698.00000001     0.          3520.00000001\n",
      "   6893.33333333  4990.52631579]\n",
      " [  937.5          687.5          125.          1781.25\n",
      "   1000.          3597.22222222  4285.71428572 10000.00000001\n",
      "   7050.          4415.98360656]\n",
      " [ 1425.          1254.          1781.25          57.\n",
      "    260.57142857   738.15        2280.          1140.\n",
      "   4018.5         4724.42307692]\n",
      " [    0.           469.33333334  1000.           260.57142857\n",
      "     32.           828.8         3840.             0.\n",
      "   9024.          7662.22222222]\n",
      " [ 4856.25        5698.00000001  3597.22222222   738.15\n",
      "    828.8          259.          2302.22222222  1726.66666667\n",
      "   3726.42857143  3771.25      ]\n",
      " [ 9000.00000001     0.          4285.71428572  2280.\n",
      "   3840.          2302.22222222   240.           711.11111111\n",
      "   3600.          3802.94117647]\n",
      " [    0.          3520.00000001 10000.00000001  1140.\n",
      "      0.          1726.66666667   711.11111111    80.\n",
      "   4177.77777778  4788.88888889]\n",
      " [ 5565.78947368  6893.33333333  7050.          4018.5\n",
      "   9024.          3726.42857143  3600.          4177.77777778\n",
      "   1410.          4214.35506241]\n",
      " [ 2693.75        4990.52631579  4415.98360656  4724.42307692\n",
      "   7662.22222222  3771.25        3802.94117647  4788.88888889\n",
      "   4214.35506241  2155.        ]]\n"
     ]
    }
   ],
   "source": [
    "# Recheck for brands with zero occurrences and handle them\n",
    "zero_occurrence_indices = np.where(term_occurrence == 0)[0]\n",
    "if len(zero_occurrence_indices) > 0:\n",
    "    for idx in zero_occurrence_indices:\n",
    "        print(f\"Brand '{feature_names[idx]}' is not mentioned and will be excluded from MDS analysis.\")\n",
    "    # Exclude brands with zero occurrences\n",
    "    valid_indices = np.setdiff1d(np.arange(len(feature_names)), zero_occurrence_indices)\n",
    "    dtm_array = dtm_array[:, valid_indices]\n",
    "    term_lift = term_lift[valid_indices][:, valid_indices]\n",
    "    term_occurrence = term_occurrence[valid_indices]\n",
    "    feature_names = [feature_names[i] for i in valid_indices]\n",
    "\n",
    "# Select indices of top 10 most frequent brands\n",
    "top_10_indices = np.argsort(term_occurrence)[-10:]\n",
    "\n",
    "# Filter DTM and feature names for top 10 brands\n",
    "dtm_array = dtm.toarray()[:, top_10_indices]\n",
    "feature_names = [feature_names[i] for i in top_10_indices]\n",
    "    \n",
    "# Add a small constant to avoid division by zero and calculate lift matrix\n",
    "constant = 1e-8\n",
    "lift_matrix = np.zeros((len(feature_names), len(feature_names)))\n",
    "for i in range(len(feature_names)):\n",
    "    for j in range(len(feature_names)):\n",
    "        if term_occurrence[i] * term_occurrence[j] > 0:\n",
    "            lift_matrix[i, j] = term_lift[i, j] / (term_occurrence[i] * term_occurrence[j] + constant)\n",
    "        else:\n",
    "            lift_matrix[i, j] = 0  # Set lift to 0 if either term does not occur\n",
    "\n",
    "# Calculate dissimilarity matrix based on lift\n",
    "dissimilarity_matrix = np.where(lift_matrix != 0, 1 / lift_matrix, 0)\n",
    "print(dissimilarity_matrix)"
   ],
   "metadata": {
    "collapsed": false,
    "ExecuteTime": {
     "end_time": "2024-01-26T22:23:59.400088Z",
     "start_time": "2024-01-26T22:23:59.390278Z"
    }
   },
   "id": "456d834704e0fa00",
   "execution_count": 57
  },
  {
   "cell_type": "code",
   "outputs": [
    {
     "data": {
      "text/plain": "             subaru  chrysler  chevrolet    saturn    nissan     mazda  \\\nsubaru     0.013333  0.000606   0.001067  0.000702  0.000000  0.000206   \nchrysler   0.000606  0.022727   0.001455  0.000797  0.002131  0.000176   \nchevrolet  0.001067  0.001455   0.008000  0.000561  0.001000  0.000278   \nsaturn     0.000702  0.000797   0.000561  0.017544  0.003838  0.001355   \nnissan     0.000000  0.002131   0.001000  0.003838  0.031250  0.001207   \nmazda      0.000206  0.000176   0.000278  0.001355  0.001207  0.003861   \nhyundai    0.000111  0.000000   0.000233  0.000439  0.000260  0.000434   \ntoyota     0.000000  0.000284   0.000100  0.000877  0.000000  0.000579   \nford       0.000180  0.000145   0.000142  0.000249  0.000111  0.000268   \nhonda      0.000371  0.000200   0.000226  0.000212  0.000131  0.000265   \n\n            hyundai    toyota      ford     honda  \nsubaru     0.000111  0.000000  0.000180  0.000371  \nchrysler   0.000000  0.000284  0.000145  0.000200  \nchevrolet  0.000233  0.000100  0.000142  0.000226  \nsaturn     0.000439  0.000877  0.000249  0.000212  \nnissan     0.000260  0.000000  0.000111  0.000131  \nmazda      0.000434  0.000579  0.000268  0.000265  \nhyundai    0.004167  0.001406  0.000278  0.000263  \ntoyota     0.001406  0.012500  0.000239  0.000209  \nford       0.000278  0.000239  0.000709  0.000237  \nhonda      0.000263  0.000209  0.000237  0.000464  ",
      "text/html": "<div>\n<style scoped>\n    .dataframe tbody tr th:only-of-type {\n        vertical-align: middle;\n    }\n\n    .dataframe tbody tr th {\n        vertical-align: top;\n    }\n\n    .dataframe thead th {\n        text-align: right;\n    }\n</style>\n<table border=\"1\" class=\"dataframe\">\n  <thead>\n    <tr style=\"text-align: right;\">\n      <th></th>\n      <th>subaru</th>\n      <th>chrysler</th>\n      <th>chevrolet</th>\n      <th>saturn</th>\n      <th>nissan</th>\n      <th>mazda</th>\n      <th>hyundai</th>\n      <th>toyota</th>\n      <th>ford</th>\n      <th>honda</th>\n    </tr>\n  </thead>\n  <tbody>\n    <tr>\n      <th>subaru</th>\n      <td>0.013333</td>\n      <td>0.000606</td>\n      <td>0.001067</td>\n      <td>0.000702</td>\n      <td>0.000000</td>\n      <td>0.000206</td>\n      <td>0.000111</td>\n      <td>0.000000</td>\n      <td>0.000180</td>\n      <td>0.000371</td>\n    </tr>\n    <tr>\n      <th>chrysler</th>\n      <td>0.000606</td>\n      <td>0.022727</td>\n      <td>0.001455</td>\n      <td>0.000797</td>\n      <td>0.002131</td>\n      <td>0.000176</td>\n      <td>0.000000</td>\n      <td>0.000284</td>\n      <td>0.000145</td>\n      <td>0.000200</td>\n    </tr>\n    <tr>\n      <th>chevrolet</th>\n      <td>0.001067</td>\n      <td>0.001455</td>\n      <td>0.008000</td>\n      <td>0.000561</td>\n      <td>0.001000</td>\n      <td>0.000278</td>\n      <td>0.000233</td>\n      <td>0.000100</td>\n      <td>0.000142</td>\n      <td>0.000226</td>\n    </tr>\n    <tr>\n      <th>saturn</th>\n      <td>0.000702</td>\n      <td>0.000797</td>\n      <td>0.000561</td>\n      <td>0.017544</td>\n      <td>0.003838</td>\n      <td>0.001355</td>\n      <td>0.000439</td>\n      <td>0.000877</td>\n      <td>0.000249</td>\n      <td>0.000212</td>\n    </tr>\n    <tr>\n      <th>nissan</th>\n      <td>0.000000</td>\n      <td>0.002131</td>\n      <td>0.001000</td>\n      <td>0.003838</td>\n      <td>0.031250</td>\n      <td>0.001207</td>\n      <td>0.000260</td>\n      <td>0.000000</td>\n      <td>0.000111</td>\n      <td>0.000131</td>\n    </tr>\n    <tr>\n      <th>mazda</th>\n      <td>0.000206</td>\n      <td>0.000176</td>\n      <td>0.000278</td>\n      <td>0.001355</td>\n      <td>0.001207</td>\n      <td>0.003861</td>\n      <td>0.000434</td>\n      <td>0.000579</td>\n      <td>0.000268</td>\n      <td>0.000265</td>\n    </tr>\n    <tr>\n      <th>hyundai</th>\n      <td>0.000111</td>\n      <td>0.000000</td>\n      <td>0.000233</td>\n      <td>0.000439</td>\n      <td>0.000260</td>\n      <td>0.000434</td>\n      <td>0.004167</td>\n      <td>0.001406</td>\n      <td>0.000278</td>\n      <td>0.000263</td>\n    </tr>\n    <tr>\n      <th>toyota</th>\n      <td>0.000000</td>\n      <td>0.000284</td>\n      <td>0.000100</td>\n      <td>0.000877</td>\n      <td>0.000000</td>\n      <td>0.000579</td>\n      <td>0.001406</td>\n      <td>0.012500</td>\n      <td>0.000239</td>\n      <td>0.000209</td>\n    </tr>\n    <tr>\n      <th>ford</th>\n      <td>0.000180</td>\n      <td>0.000145</td>\n      <td>0.000142</td>\n      <td>0.000249</td>\n      <td>0.000111</td>\n      <td>0.000268</td>\n      <td>0.000278</td>\n      <td>0.000239</td>\n      <td>0.000709</td>\n      <td>0.000237</td>\n    </tr>\n    <tr>\n      <th>honda</th>\n      <td>0.000371</td>\n      <td>0.000200</td>\n      <td>0.000226</td>\n      <td>0.000212</td>\n      <td>0.000131</td>\n      <td>0.000265</td>\n      <td>0.000263</td>\n      <td>0.000209</td>\n      <td>0.000237</td>\n      <td>0.000464</td>\n    </tr>\n  </tbody>\n</table>\n</div>"
     },
     "execution_count": 59,
     "metadata": {},
     "output_type": "execute_result"
    }
   ],
   "source": [
    "lift_df = pd.DataFrame(lift_matrix, index=feature_names, columns=feature_names)\n",
    "lift_df"
   ],
   "metadata": {
    "collapsed": false,
    "ExecuteTime": {
     "end_time": "2024-01-26T22:24:57.032355Z",
     "start_time": "2024-01-26T22:24:57.024994Z"
    }
   },
   "id": "a548a97ea544db7e",
   "execution_count": 59
  },
  {
   "cell_type": "code",
   "execution_count": 51,
   "id": "7f1e4ef9",
   "metadata": {
    "ExecuteTime": {
     "end_time": "2024-01-26T22:15:30.400908Z",
     "start_time": "2024-01-26T22:15:30.388925Z"
    }
   },
   "outputs": [
    {
     "name": "stdout",
     "output_type": "stream",
     "text": [
      "Top 10 brands by frecuency:  ['subaru', 'chrysler', 'chevrolet', 'saturn', 'nissan', 'mazda', 'hyundai', 'toyota', 'ford', 'honda']\n"
     ]
    }
   ],
   "source": [
    "print(\"Top 10 brands by frecuency: \", feature_names)"
   ]
  },
  {
   "cell_type": "code",
   "execution_count": 53,
   "id": "793930bb",
   "metadata": {
    "ExecuteTime": {
     "end_time": "2024-01-26T22:17:49.236823Z",
     "start_time": "2024-01-26T22:17:49.028298Z"
    }
   },
   "outputs": [
    {
     "data": {
      "text/plain": "<Figure size 640x480 with 1 Axes>",
      "image/png": "[encoded data removed]"
     },
     "metadata": {},
     "output_type": "display_data"
    }
   ],
   "source": [
    "# Apply MDS to reduce dimensionality to 2D\n",
    "mds = MDS(n_components=2, dissimilarity='precomputed', random_state=42)\n",
    "mds_result = mds.fit_transform(dissimilarity_matrix)\n",
    "\n",
    "# Plot the MDS result\n",
    "plt.scatter(mds_result[:, 0], mds_result[:, 1])\n",
    "\n",
    "# Annotate points with feature names\n",
    "for i, txt in enumerate(feature_names):\n",
    "    plt.annotate(txt, (mds_result[i, 0], mds_result[i, 1]))\n",
    "\n",
    "plt.title('MDS Plot based on Lift for Top 10 Car Brands')\n",
    "plt.xlabel('MDS Dimension 1')\n",
    "plt.ylabel('MDS Dimension 2')\n",
    "plt.show()"
   ]
  },
  {
   "cell_type": "markdown",
   "id": "7948cfd4",
   "metadata": {},
   "source": [
    "## Task B"
   ]
  },
  {
   "cell_type": "markdown",
   "id": "0ab7fae8",
   "metadata": {},
   "source": [
    "### Honda:\n",
    "Positioning: Honda is positioned at the far right of the MDS Dimension 1, which suggests a significant differentiation from most other car brands in the dataset. This could indicate a unique selling proposition (USP) that Honda possesses, setting it apart in the discussions or perceptions among consumers.\n",
    "\n",
    "Brand Strengths: Honda's outlier position could be reflective of strong brand associations with specific attributes, such as reliability, engineering, or value for money. The fact that it is far removed from the cluster of other brands may suggest that it owns a particular niche or that its brand is not commonly confused with others.\n",
    "\n",
    "Consumer Perception and Strategy: Given Honda's distinctive placement, the company could leverage this in their marketing strategy by emphasizing the qualities that lead to this separation. If the attributes are positive, Honda should reinforce these in communication. If there are negative connotations, Honda might need to address these in order to move closer to the cluster, if that is desirable.\n",
    "\n",
    "### Subaru:\n",
    "Positioning: Subaru is positioned towards the upper right quadrant, but closer to the center of the plot compared to Honda. This indicates that Subaru shares some commonalities with other brands, especially Chevrolet, but still retains a level of distinctiveness in some aspects.\n",
    "\n",
    "Niche Market Appeal: Subaru’s position may reflect its reputation for producing vehicles that are robust, suitable for off-road and all-weather conditions, appealing to a niche market that values these characteristics. Their position suggests that they are recognized for this niche, but not as strongly separated as Honda, indicating potential overlap with other brands in certain aspects.\n",
    "\n",
    "Marketing Implications: Subaru could focus on strengthening its unique brand elements that appeal to its niche market. At the same time, it could explore what attributes shared with brands like Chevrolet contribute to its positioning and decide whether to emphasize or differentiate from these in future strategies.\n",
    "\n",
    "**For both Honda and Subaru, the insights suggest different strategic approaches. Honda may benefit from capitalizing on and reinforcing its distinct brand positioning, while Subaru could explore the dual strategy of niche market reinforcement and investigation into shared attributes with other brands for potential opportunities. It is critical for both brands to delve into the qualitative aspects behind their positioning to fully understand the drivers of their brand perception and strategize accordingly.**"
   ]
  },
  {
   "cell_type": "code",
   "execution_count": null,
   "id": "fa0a1b57",
   "metadata": {},
   "outputs": [],
   "source": []
  }
 ],
 "metadata": {
  "kernelspec": {
   "display_name": "Python 3 (ipykernel)",
   "language": "python",
   "name": "python3"
  },
  "language_info": {
   "codemirror_mode": {
    "name": "ipython",
    "version": 3
   },
   "file_extension": ".py",
   "mimetype": "text/x-python",
   "name": "python",
   "nbconvert_exporter": "python",
   "pygments_lexer": "ipython3",
   "version": "3.11.5"
  }
 },
 "nbformat": 4,
 "nbformat_minor": 5
}
