{
 "cells": [
  {
   "cell_type": "markdown",
   "id": "71811572",
   "metadata": {},
   "source": [
    "## Task A"
   ]
  },
  {
   "cell_type": "code",
   "execution_count": 1,
   "id": "7b1ce00d",
   "metadata": {},
   "outputs": [
    {
     "name": "stdout",
     "output_type": "stream",
     "text": [
      "\u001b[38;5;2m✔ Download and installation successful\u001b[0m\n",
      "You can now load the package via spacy.load('en_core_web_sm')\n"
     ]
    }
   ],
   "source": [
    "import warnings\n",
    "warnings.filterwarnings(\"ignore\")\n",
    "import pandas as pd\n",
    "import numpy as np\n",
    "import matplotlib.pyplot as plt\n",
    "from sklearn.feature_extraction.text import CountVectorizer\n",
    "from sklearn.manifold import MDS\n",
    "import re\n",
    "import spacy\n",
    "import spacy.cli\n",
    "from spacy.lang.en import stop_words\n",
    "spacy.cli.download(\"en_core_web_sm\")"
   ]
  },
  {
   "cell_type": "code",
   "execution_count": 2,
   "id": "f014c985",
   "metadata": {},
   "outputs": [],
   "source": [
    "# Documents\n",
    "doc = pd.read_csv('edmunds_extraction.csv')\n",
    "doc['message'].fillna('', inplace=True)"
   ]
  },
  {
   "cell_type": "code",
   "execution_count": 3,
   "id": "6303e7f2",
   "metadata": {},
   "outputs": [],
   "source": [
    "# Clean Text\n",
    "nlp = spacy.load('en_core_web_sm')\n",
    "def clean_text(x): # x is a document\n",
    "    # conver to lower case \n",
    "    x = x.lower()\n",
    "    # remove new line\n",
    "    x = re.sub(r'\\n', ' ', x)\n",
    "    # remove link\n",
    "    x = re.sub(r\"https?://[^\\s]+\", \"\", x)\n",
    "    # remove name twitter tag\n",
    "    x = re.sub(r'@[A-Za-z0-9\\_]+', ' ', x) \n",
    "    # remove name hashtag tag\n",
    "    x = re.sub(r'\\#[A-Za-z0-9\\_]+', ' ', x) \n",
    "    # remove specific word - southwest OR airline\n",
    "    x = re.sub('southwest|airline', ' ', x)\n",
    "    # lemmatization\n",
    "    x = ' '.join([token.lemma_ for token in nlp(x)])\n",
    "    # remove multiple space\n",
    "    x = re.sub(r' +', ' ', x)\n",
    "    # remove space before and after the text\n",
    "    x = x.strip()\n",
    "    return x"
   ]
  },
  {
   "cell_type": "code",
   "execution_count": 4,
   "id": "de49b034",
   "metadata": {},
   "outputs": [],
   "source": [
    "# Convert documents into a list\n",
    "all_documents = doc['message'].tolist()"
   ]
  },
  {
   "cell_type": "code",
   "execution_count": 5,
   "id": "3bcd8fda",
   "metadata": {},
   "outputs": [],
   "source": [
    "# List of non-brand words to exclude\n",
    "exclude_words = ['problem', 'car', 'seat', 'engine', 'wheel', 'door', 'window', 'suv', 'sedan', 'vehicle', 'mpv', 'hatchback', 'crossover', 'convertible', 'coupe', 'truck', 'van', 'roadster', 'cabriolet', 'sportscar']\n",
    "\n",
    "# Read the list of car brands/models from the CSV file\n",
    "models = pd.read_csv('models.csv', header=None)\n",
    "\n",
    "# Extract unique brand names as a list\n",
    "car_brands = models[0].unique().tolist()\n",
    "\n",
    "# Remove non-brand words from the list\n",
    "car_brands = [brand for brand in car_brands if brand.lower() not in exclude_words]"
   ]
  },
  {
   "cell_type": "code",
   "execution_count": 6,
   "id": "0ce074b5",
   "metadata": {},
   "outputs": [],
   "source": [
    "# Initialize the CountVectorizer to transform the text data into a bag-of-words model only for the top 10 most frequent non-stopwords, do the MDS for those words\n",
    "vectorizer = CountVectorizer(vocabulary=car_brands, # stopwords in NLTK is more complete than Sklearn, https://gist.github.com/sebleier/554280\n",
    "                             max_features=10, # include only the top 10 words\n",
    "                             preprocessor=clean_text,\n",
    "                             token_pattern='[a-zA-Z0-9]{3,}') # include words with more than 3 characters "
   ]
  },
  {
   "cell_type": "code",
   "execution_count": 7,
   "id": "9833b251",
   "metadata": {},
   "outputs": [
    {
     "name": "stdout",
     "output_type": "stream",
     "text": [
      "Brand 'hyndai kia' is not mentioned and will be excluded from MDS analysis.\n",
      "Brand 'hyundai,' is not mentioned and will be excluded from MDS analysis.\n",
      "Brand 'hyundai.' is not mentioned and will be excluded from MDS analysis.\n",
      "Brand 'kia,' is not mentioned and will be excluded from MDS analysis.\n",
      "Brand 'kia.' is not mentioned and will be excluded from MDS analysis.\n",
      "Brand 'nissan.' is not mentioned and will be excluded from MDS analysis.\n",
      "Brand 'toyata' is not mentioned and will be excluded from MDS analysis.\n",
      "Brand 'volkwagen' is not mentioned and will be excluded from MDS analysis.\n",
      "[[4.15254237e+01 0.00000000e+00 1.08500000e+03 2.95000000e+02\n",
      "  0.00000000e+00 0.00000000e+00 5.46000000e+03 0.00000000e+00\n",
      "  6.40000000e+03 9.10608696e+02]\n",
      " [0.00000000e+00 3.11538462e+01 5.07272727e+02 1.32750000e+03\n",
      "  8.32500000e+02 0.00000000e+00 0.00000000e+00 3.73500000e+03\n",
      "  8.22857143e+03 2.17161290e+03]\n",
      " [1.08500000e+03 5.07272727e+02 8.26666667e+01 8.12888889e+02\n",
      "  1.14700000e+03 0.00000000e+00 9.67200000e+03 0.00000000e+00\n",
      "  1.13371429e+04 4.03269565e+03]\n",
      " [2.95000000e+02 1.32750000e+03 8.12888889e+02 2.74094488e+01\n",
      "  1.67923077e+02 0.00000000e+00 3.06800000e+03 4.89700000e+03\n",
      "  1.07885714e+04 1.10330000e+04]\n",
      " [0.00000000e+00 8.32500000e+02 1.14700000e+03 1.67923077e+02\n",
      "  2.48909091e+01 0.00000000e+00 0.00000000e+00 0.00000000e+00\n",
      "  2.36800000e+04 1.10704000e+04]\n",
      " [0.00000000e+00 0.00000000e+00 0.00000000e+00 0.00000000e+00\n",
      "  0.00000000e+00 1.10000000e+01 0.00000000e+00 0.00000000e+00\n",
      "  1.17333333e+03 2.35085714e+03]\n",
      " [5.46000000e+03 0.00000000e+00 9.67200000e+03 3.06800000e+03\n",
      "  0.00000000e+00 0.00000000e+00 7.90129870e+01 2.31214286e+02\n",
      "  2.17043478e+03 1.88206452e+03]\n",
      " [0.00000000e+00 3.73500000e+03 0.00000000e+00 4.89700000e+03\n",
      "  0.00000000e+00 0.00000000e+00 2.31214286e+02 4.12514970e+01\n",
      "  3.79428571e+03 1.18255238e+03]\n",
      " [6.40000000e+03 8.22857143e+03 1.13371429e+04 1.07885714e+04\n",
      "  2.36800000e+04 1.17333333e+03 2.17043478e+03 3.79428571e+03\n",
      "  5.24120282e+02 2.61953488e+03]\n",
      " [9.10608696e+02 2.17161290e+03 4.03269565e+03 1.10330000e+04\n",
      "  1.10704000e+04 2.35085714e+03 1.88206452e+03 1.18255238e+03\n",
      "  2.61953488e+03 6.69263158e+02]]\n"
     ]
    }
   ],
   "source": [
    "# Transform the documents into a document-term matrix\n",
    "dtm = vectorizer.fit_transform(all_documents)\n",
    "\n",
    "# Extract feature names (non-stopwords)\n",
    "feature_names = vectorizer.get_feature_names_out()\n",
    "\n",
    "# Convert the document-term matrix to a dense array\n",
    "dtm_array = dtm.toarray()\n",
    "\n",
    "# Calculate lift between terms\n",
    "term_lift = np.dot(dtm_array.T, dtm_array)\n",
    "term_occurrence = np.sum(dtm_array, axis=0)\n",
    "\n",
    "# Recheck for brands with zero occurrences and handle them\n",
    "zero_occurrence_indices = np.where(term_occurrence == 0)[0]\n",
    "if len(zero_occurrence_indices) > 0:\n",
    "    for idx in zero_occurrence_indices:\n",
    "        print(f\"Brand '{feature_names[idx]}' is not mentioned and will be excluded from MDS analysis.\")\n",
    "    # Exclude brands with zero occurrences\n",
    "    valid_indices = np.setdiff1d(np.arange(len(feature_names)), zero_occurrence_indices)\n",
    "    dtm_array = dtm_array[:, valid_indices]\n",
    "    term_lift = term_lift[valid_indices][:, valid_indices]\n",
    "    term_occurrence = term_occurrence[valid_indices]\n",
    "    feature_names = [feature_names[i] for i in valid_indices]\n",
    "\n",
    "# Select indices of top 10 most frequent brands\n",
    "top_10_indices = np.argsort(term_occurrence)[-10:]\n",
    "\n",
    "# Filter DTM and feature names for top 10 brands\n",
    "dtm_array = dtm.toarray()[:, top_10_indices]\n",
    "feature_names = [feature_names[i] for i in top_10_indices]\n",
    "    \n",
    "# Add a small constant to avoid division by zero and calculate lift matrix\n",
    "constant = 1e-8\n",
    "lift_matrix = np.zeros((len(feature_names), len(feature_names)))\n",
    "for i in range(len(feature_names)):\n",
    "    for j in range(len(feature_names)):\n",
    "        if term_occurrence[i] * term_occurrence[j] > 0:\n",
    "            lift_matrix[i, j] = term_lift[i, j] / (term_occurrence[i] * term_occurrence[j] + constant)\n",
    "        else:\n",
    "            lift_matrix[i, j] = 0  # Set lift to 0 if either term does not occur\n",
    "\n",
    "# Calculate dissimilarity matrix based on lift\n",
    "dissimilarity_matrix = np.where(lift_matrix != 0, 1 / lift_matrix, 0)\n",
    "print(dissimilarity_matrix)"
   ]
  },
  {
   "cell_type": "code",
   "execution_count": 8,
   "id": "7f1e4ef9",
   "metadata": {},
   "outputs": [
    {
     "name": "stdout",
     "output_type": "stream",
     "text": [
      "Top 10 brands by frecuency:  ['subaru', 'saturn', 'bmw', 'chrysler', 'nissan', 'hyundai', 'mazda', 'toyota', 'ford', 'honda']\n"
     ]
    }
   ],
   "source": [
    "print(\"Top 10 brands by frecuency: \", feature_names)"
   ]
  },
  {
   "cell_type": "code",
   "execution_count": 9,
   "id": "793930bb",
   "metadata": {},
   "outputs": [
    {
     "data": {
      "image/png": "[encoded data removed]",
      "text/plain": [
       "<Figure size 640x480 with 1 Axes>"
      ]
     },
     "metadata": {},
     "output_type": "display_data"
    }
   ],
   "source": [
    "# Apply MDS to reduce dimensionality to 2D\n",
    "mds = MDS(n_components=2, dissimilarity='precomputed', random_state=42)\n",
    "mds_result = mds.fit_transform(dissimilarity_matrix)\n",
    "\n",
    "# Plot the MDS result\n",
    "plt.scatter(mds_result[:, 0], mds_result[:, 1])\n",
    "\n",
    "# Annotate points with feature names\n",
    "for i, txt in enumerate(feature_names):\n",
    "    plt.annotate(txt, (mds_result[i, 0], mds_result[i, 1]))\n",
    "\n",
    "plt.title('MDS Plot based on Lift for Top 10 Car Brands')\n",
    "plt.xlabel('MDS Dimension 1')\n",
    "plt.ylabel('MDS Dimension 2')\n",
    "plt.show()"
   ]
  },
  {
   "cell_type": "markdown",
   "id": "7948cfd4",
   "metadata": {},
   "source": [
    "## Task B"
   ]
  },
  {
   "cell_type": "markdown",
   "id": "0ab7fae8",
   "metadata": {},
   "source": [
    "### Ford:\n",
    "\n",
    "Positioning: Ford appears quite distant from all other brands on the plot, particularly on the MDS Dimension 1 axis. This could indicate that Ford is discussed in contexts that are very different from the other brands, possibly due to unique features, market positioning, or customer base.\n",
    "\n",
    "Differentiation: The substantial separation along the horizontal axis suggests that Ford's brand or products may be unique in the eyes of customers or are mentioned in unique scenarios. This can be a strength if the uniqueness is due to positive attributes like affordability, reliability, or specific features that are valued by customers.\n",
    "\n",
    "Targeted Marketing Strategies: Given Ford's positioning on the plot, brand managers might consider emphasizing the unique attributes that set Ford apart in marketing campaigns. If the discussion indicates positive unique attributes, these should be highlighted. If negative, strategies to address these perceptions should be developed.\n",
    "\n",
    "\n",
    "### BMW:\n",
    "\n",
    "Brand Association: BMW is positioned close to Nissan and Chrysler, which might indicate that these brands share some commonalities in how customers discuss them. This could be due to similar customer demographics, marketing strategies, or shared product features.\n",
    "\n",
    "Premium Market Perception: Being a premium brand, BMW's proximity to other non-luxury brands could be a concern if the brand wishes to maintain a distinct premium image. Brand managers might want to investigate the context in which BMW is discussed alongside these other brands to ensure that its premium branding is not being diluted.\n",
    "\n",
    "Strategic Brand Partnerships: The closeness to other brands may also suggest opportunities for strategic partnerships or co-branding initiatives, especially if the shared attributes are positive.\n",
    "\n",
    "\n",
    "\n",
    "#### For both brands, the insights from the MDS plot should be combined with qualitative data to understand the context behind the brand associations. Brand managers should look into the specific content of the conversations to see what attributes or topics are driving the associations. This could inform product development, marketing campaigns, and customer engagement strategies to reinforce or adjust the brand's position in consumers' minds."
   ]
  },
  {
   "cell_type": "code",
   "execution_count": null,
   "id": "fa0a1b57",
   "metadata": {},
   "outputs": [],
   "source": []
  }
 ],
 "metadata": {
  "kernelspec": {
   "display_name": "Python 3 (ipykernel)",
   "language": "python",
   "name": "python3"
  },
  "language_info": {
   "codemirror_mode": {
    "name": "ipython",
    "version": 3
   },
   "file_extension": ".py",
   "mimetype": "text/x-python",
   "name": "python",
   "nbconvert_exporter": "python",
   "pygments_lexer": "ipython3",
   "version": "3.11.5"
  }
 },
 "nbformat": 4,
 "nbformat_minor": 5
}
