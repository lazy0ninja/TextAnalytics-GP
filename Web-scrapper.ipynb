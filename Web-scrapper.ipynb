{
 "cells": [
  {
   "cell_type": "code",

   "execution_count": 2,
   "id": "41384ea1",
   "metadata": {
    "ExecuteTime": {
     "end_time": "2024-01-24T21:54:49.122338Z",
     "start_time": "2024-01-24T21:54:49.118647Z"
    }
   },


   "execution_count": 3,
   "id": "ce2664e2",
   "metadata": {
    "ExecuteTime": {
     "end_time": "2024-01-24T21:54:51.527381Z",
     "start_time": "2024-01-24T21:54:51.523626Z"
    }
   },

